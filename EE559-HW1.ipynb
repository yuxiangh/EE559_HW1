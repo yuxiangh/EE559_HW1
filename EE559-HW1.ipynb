{
 "cells": [
  {
   "cell_type": "code",
   "execution_count": 155,
   "metadata": {
    "collapsed": true
   },
   "outputs": [],
   "source": [
    "import pandas as pd\n",
    "import csv\n",
    "import matplotlib.pyplot as plt\n",
    "import warnings\n",
    "import seaborn as sns\n",
    "import numpy as np\n",
    "warnings.filterwarnings('ignore')\n",
    "%matplotlib inline"
   ]
  },
  {
   "cell_type": "code",
   "execution_count": 156,
   "metadata": {
    "collapsed": true
   },
   "outputs": [],
   "source": [
    "def TxtFileToCsv():\n",
    "    with open('data_banknote_authentication.csv', 'w') as csvfile:\n",
    "        writer = csv.writer(csvfile, dialect='excel')\n",
    "        writer.writerow((\"Att1\",\"Att2\",\"Att3\",\"Att4\",\"Class\"))\n",
    "        # 读要转换的txt文件，文件每行各词间以,字符分隔\n",
    "        with open('data_banknote_authentication.txt', 'r') as filein:\n",
    "            for line in filein:\n",
    "                line_list = line.strip('\\n').split(',')\n",
    "                writer.writerow(line_list)"
   ]
  },
  {
   "cell_type": "code",
   "execution_count": 157,
   "metadata": {
    "collapsed": true
   },
   "outputs": [],
   "source": [
    "#(b) Pre-Processing and Exploratory data analysis:\n",
    "#i. Make scatterplots of the independent variables in the dataset. Use color to show Classes 0 and 1.\n",
    "#ii. Make boxplots for each of the independent variables. Use color to show Classes 0 and 1 (see ISLR p. 129).\n",
    "#iii. Select the first 200 rows of Class 0 and the first 200 rows of Class 1 as the test set and the rest of the data as the training set."
   ]
  },
  {
   "cell_type": "code",
   "execution_count": 158,
   "metadata": {
    "collapsed": true
   },
   "outputs": [],
   "source": [
    "data=pd.read_csv(\"data_banknote_authentication.csv\")"
   ]
  },
  {
   "cell_type": "code",
   "execution_count": 159,
   "metadata": {},
   "outputs": [
    {
     "data": {
      "text/html": [
       "<div>\n",
       "<style scoped>\n",
       "    .dataframe tbody tr th:only-of-type {\n",
       "        vertical-align: middle;\n",
       "    }\n",
       "\n",
       "    .dataframe tbody tr th {\n",
       "        vertical-align: top;\n",
       "    }\n",
       "\n",
       "    .dataframe thead th {\n",
       "        text-align: right;\n",
       "    }\n",
       "</style>\n",
       "<table border=\"1\" class=\"dataframe\">\n",
       "  <thead>\n",
       "    <tr style=\"text-align: right;\">\n",
       "      <th></th>\n",
       "      <th>Att1</th>\n",
       "      <th>Att2</th>\n",
       "      <th>Att3</th>\n",
       "      <th>Att4</th>\n",
       "      <th>Class</th>\n",
       "    </tr>\n",
       "  </thead>\n",
       "  <tbody>\n",
       "    <tr>\n",
       "      <th>0</th>\n",
       "      <td>3.62160</td>\n",
       "      <td>8.6661</td>\n",
       "      <td>-2.80730</td>\n",
       "      <td>-0.44699</td>\n",
       "      <td>0</td>\n",
       "    </tr>\n",
       "    <tr>\n",
       "      <th>1</th>\n",
       "      <td>4.54590</td>\n",
       "      <td>8.1674</td>\n",
       "      <td>-2.45860</td>\n",
       "      <td>-1.46210</td>\n",
       "      <td>0</td>\n",
       "    </tr>\n",
       "    <tr>\n",
       "      <th>2</th>\n",
       "      <td>3.86600</td>\n",
       "      <td>-2.6383</td>\n",
       "      <td>1.92420</td>\n",
       "      <td>0.10645</td>\n",
       "      <td>0</td>\n",
       "    </tr>\n",
       "    <tr>\n",
       "      <th>3</th>\n",
       "      <td>3.45660</td>\n",
       "      <td>9.5228</td>\n",
       "      <td>-4.01120</td>\n",
       "      <td>-3.59440</td>\n",
       "      <td>0</td>\n",
       "    </tr>\n",
       "    <tr>\n",
       "      <th>4</th>\n",
       "      <td>0.32924</td>\n",
       "      <td>-4.4552</td>\n",
       "      <td>4.57180</td>\n",
       "      <td>-0.98880</td>\n",
       "      <td>0</td>\n",
       "    </tr>\n",
       "    <tr>\n",
       "      <th>5</th>\n",
       "      <td>4.36840</td>\n",
       "      <td>9.6718</td>\n",
       "      <td>-3.96060</td>\n",
       "      <td>-3.16250</td>\n",
       "      <td>0</td>\n",
       "    </tr>\n",
       "    <tr>\n",
       "      <th>6</th>\n",
       "      <td>3.59120</td>\n",
       "      <td>3.0129</td>\n",
       "      <td>0.72888</td>\n",
       "      <td>0.56421</td>\n",
       "      <td>0</td>\n",
       "    </tr>\n",
       "    <tr>\n",
       "      <th>7</th>\n",
       "      <td>2.09220</td>\n",
       "      <td>-6.8100</td>\n",
       "      <td>8.46360</td>\n",
       "      <td>-0.60216</td>\n",
       "      <td>0</td>\n",
       "    </tr>\n",
       "    <tr>\n",
       "      <th>8</th>\n",
       "      <td>3.20320</td>\n",
       "      <td>5.7588</td>\n",
       "      <td>-0.75345</td>\n",
       "      <td>-0.61251</td>\n",
       "      <td>0</td>\n",
       "    </tr>\n",
       "    <tr>\n",
       "      <th>9</th>\n",
       "      <td>1.53560</td>\n",
       "      <td>9.1772</td>\n",
       "      <td>-2.27180</td>\n",
       "      <td>-0.73535</td>\n",
       "      <td>0</td>\n",
       "    </tr>\n",
       "    <tr>\n",
       "      <th>10</th>\n",
       "      <td>1.22470</td>\n",
       "      <td>8.7779</td>\n",
       "      <td>-2.21350</td>\n",
       "      <td>-0.80647</td>\n",
       "      <td>0</td>\n",
       "    </tr>\n",
       "    <tr>\n",
       "      <th>11</th>\n",
       "      <td>3.98990</td>\n",
       "      <td>-2.7066</td>\n",
       "      <td>2.39460</td>\n",
       "      <td>0.86291</td>\n",
       "      <td>0</td>\n",
       "    </tr>\n",
       "    <tr>\n",
       "      <th>12</th>\n",
       "      <td>1.89930</td>\n",
       "      <td>7.6625</td>\n",
       "      <td>0.15394</td>\n",
       "      <td>-3.11080</td>\n",
       "      <td>0</td>\n",
       "    </tr>\n",
       "    <tr>\n",
       "      <th>13</th>\n",
       "      <td>-1.57680</td>\n",
       "      <td>10.8430</td>\n",
       "      <td>2.54620</td>\n",
       "      <td>-2.93620</td>\n",
       "      <td>0</td>\n",
       "    </tr>\n",
       "    <tr>\n",
       "      <th>14</th>\n",
       "      <td>3.40400</td>\n",
       "      <td>8.7261</td>\n",
       "      <td>-2.99150</td>\n",
       "      <td>-0.57242</td>\n",
       "      <td>0</td>\n",
       "    </tr>\n",
       "    <tr>\n",
       "      <th>15</th>\n",
       "      <td>4.67650</td>\n",
       "      <td>-3.3895</td>\n",
       "      <td>3.48960</td>\n",
       "      <td>1.47710</td>\n",
       "      <td>0</td>\n",
       "    </tr>\n",
       "    <tr>\n",
       "      <th>16</th>\n",
       "      <td>2.67190</td>\n",
       "      <td>3.0646</td>\n",
       "      <td>0.37158</td>\n",
       "      <td>0.58619</td>\n",
       "      <td>0</td>\n",
       "    </tr>\n",
       "    <tr>\n",
       "      <th>17</th>\n",
       "      <td>0.80355</td>\n",
       "      <td>2.8473</td>\n",
       "      <td>4.34390</td>\n",
       "      <td>0.60170</td>\n",
       "      <td>0</td>\n",
       "    </tr>\n",
       "    <tr>\n",
       "      <th>18</th>\n",
       "      <td>1.44790</td>\n",
       "      <td>-4.8794</td>\n",
       "      <td>8.34280</td>\n",
       "      <td>-2.10860</td>\n",
       "      <td>0</td>\n",
       "    </tr>\n",
       "    <tr>\n",
       "      <th>19</th>\n",
       "      <td>5.24230</td>\n",
       "      <td>11.0272</td>\n",
       "      <td>-4.35300</td>\n",
       "      <td>-4.10130</td>\n",
       "      <td>0</td>\n",
       "    </tr>\n",
       "    <tr>\n",
       "      <th>20</th>\n",
       "      <td>5.78670</td>\n",
       "      <td>7.8902</td>\n",
       "      <td>-2.61960</td>\n",
       "      <td>-0.48708</td>\n",
       "      <td>0</td>\n",
       "    </tr>\n",
       "    <tr>\n",
       "      <th>21</th>\n",
       "      <td>0.32920</td>\n",
       "      <td>-4.4552</td>\n",
       "      <td>4.57180</td>\n",
       "      <td>-0.98880</td>\n",
       "      <td>0</td>\n",
       "    </tr>\n",
       "    <tr>\n",
       "      <th>22</th>\n",
       "      <td>3.93620</td>\n",
       "      <td>10.1622</td>\n",
       "      <td>-3.82350</td>\n",
       "      <td>-4.01720</td>\n",
       "      <td>0</td>\n",
       "    </tr>\n",
       "    <tr>\n",
       "      <th>23</th>\n",
       "      <td>0.93584</td>\n",
       "      <td>8.8855</td>\n",
       "      <td>-1.68310</td>\n",
       "      <td>-1.65990</td>\n",
       "      <td>0</td>\n",
       "    </tr>\n",
       "    <tr>\n",
       "      <th>24</th>\n",
       "      <td>4.43380</td>\n",
       "      <td>9.8870</td>\n",
       "      <td>-4.67950</td>\n",
       "      <td>-3.74830</td>\n",
       "      <td>0</td>\n",
       "    </tr>\n",
       "    <tr>\n",
       "      <th>25</th>\n",
       "      <td>0.70570</td>\n",
       "      <td>-5.4981</td>\n",
       "      <td>8.33680</td>\n",
       "      <td>-2.87150</td>\n",
       "      <td>0</td>\n",
       "    </tr>\n",
       "    <tr>\n",
       "      <th>26</th>\n",
       "      <td>1.14320</td>\n",
       "      <td>-3.7413</td>\n",
       "      <td>5.57770</td>\n",
       "      <td>-0.63578</td>\n",
       "      <td>0</td>\n",
       "    </tr>\n",
       "    <tr>\n",
       "      <th>27</th>\n",
       "      <td>-0.38214</td>\n",
       "      <td>8.3909</td>\n",
       "      <td>2.16240</td>\n",
       "      <td>-3.74050</td>\n",
       "      <td>0</td>\n",
       "    </tr>\n",
       "    <tr>\n",
       "      <th>28</th>\n",
       "      <td>6.56330</td>\n",
       "      <td>9.8187</td>\n",
       "      <td>-4.41130</td>\n",
       "      <td>-3.22580</td>\n",
       "      <td>0</td>\n",
       "    </tr>\n",
       "    <tr>\n",
       "      <th>29</th>\n",
       "      <td>4.89060</td>\n",
       "      <td>-3.3584</td>\n",
       "      <td>3.42020</td>\n",
       "      <td>1.09050</td>\n",
       "      <td>0</td>\n",
       "    </tr>\n",
       "  </tbody>\n",
       "</table>\n",
       "</div>"
      ],
      "text/plain": [
       "       Att1     Att2     Att3     Att4  Class\n",
       "0   3.62160   8.6661 -2.80730 -0.44699      0\n",
       "1   4.54590   8.1674 -2.45860 -1.46210      0\n",
       "2   3.86600  -2.6383  1.92420  0.10645      0\n",
       "3   3.45660   9.5228 -4.01120 -3.59440      0\n",
       "4   0.32924  -4.4552  4.57180 -0.98880      0\n",
       "5   4.36840   9.6718 -3.96060 -3.16250      0\n",
       "6   3.59120   3.0129  0.72888  0.56421      0\n",
       "7   2.09220  -6.8100  8.46360 -0.60216      0\n",
       "8   3.20320   5.7588 -0.75345 -0.61251      0\n",
       "9   1.53560   9.1772 -2.27180 -0.73535      0\n",
       "10  1.22470   8.7779 -2.21350 -0.80647      0\n",
       "11  3.98990  -2.7066  2.39460  0.86291      0\n",
       "12  1.89930   7.6625  0.15394 -3.11080      0\n",
       "13 -1.57680  10.8430  2.54620 -2.93620      0\n",
       "14  3.40400   8.7261 -2.99150 -0.57242      0\n",
       "15  4.67650  -3.3895  3.48960  1.47710      0\n",
       "16  2.67190   3.0646  0.37158  0.58619      0\n",
       "17  0.80355   2.8473  4.34390  0.60170      0\n",
       "18  1.44790  -4.8794  8.34280 -2.10860      0\n",
       "19  5.24230  11.0272 -4.35300 -4.10130      0\n",
       "20  5.78670   7.8902 -2.61960 -0.48708      0\n",
       "21  0.32920  -4.4552  4.57180 -0.98880      0\n",
       "22  3.93620  10.1622 -3.82350 -4.01720      0\n",
       "23  0.93584   8.8855 -1.68310 -1.65990      0\n",
       "24  4.43380   9.8870 -4.67950 -3.74830      0\n",
       "25  0.70570  -5.4981  8.33680 -2.87150      0\n",
       "26  1.14320  -3.7413  5.57770 -0.63578      0\n",
       "27 -0.38214   8.3909  2.16240 -3.74050      0\n",
       "28  6.56330   9.8187 -4.41130 -3.22580      0\n",
       "29  4.89060  -3.3584  3.42020  1.09050      0"
      ]
     },
     "execution_count": 159,
     "metadata": {},
     "output_type": "execute_result"
    }
   ],
   "source": [
    "data.head(30)"
   ]
  },
  {
   "cell_type": "code",
   "execution_count": 160,
   "metadata": {
    "collapsed": true
   },
   "outputs": [],
   "source": [
    "data_class0=data[data[\"Class\"]==0] #762rows\n",
    "data_class1=data[data[\"Class\"]==1] #610rows"
   ]
  },
  {
   "cell_type": "markdown",
   "metadata": {},
   "source": [
    "# Make scatterplots of the independent variables in the dataset. Use color to show Classes 0 and 1."
   ]
  },
  {
   "cell_type": "code",
   "execution_count": 161,
   "metadata": {},
   "outputs": [
    {
     "data": {
      "image/png": "[encoded data removed]",
      "text/plain": [
       "<matplotlib.figure.Figure at 0x10dd08be0>"
      ]
     },
     "metadata": {},
     "output_type": "display_data"
    },
    {
     "data": {
      "image/png": "[encoded data removed]",
      "text/plain": [
       "<matplotlib.figure.Figure at 0x10efd7160>"
      ]
     },
     "metadata": {},
     "output_type": "display_data"
    },
    {
     "data": {
      "image/png": "[encoded data removed]",
      "text/plain": [
       "<matplotlib.figure.Figure at 0x10d2dd7b8>"
      ]
     },
     "metadata": {},
     "output_type": "display_data"
    },
    {
     "data": {
      "image/png": "[encoded data removed]",
      "text/plain": [
       "<matplotlib.figure.Figure at 0x10e5bd588>"
      ]
     },
     "metadata": {},
     "output_type": "display_data"
    },
    {
     "data": {
      "image/png": "[encoded data removed]",
      "text/plain": [
       "<matplotlib.figure.Figure at 0x10e66fe48>"
      ]
     },
     "metadata": {},
     "output_type": "display_data"
    },
    {
     "data": {
      "image/png": "[encoded data removed]",
      "text/plain": [
       "<matplotlib.figure.Figure at 0x10e491898>"
      ]
     },
     "metadata": {},
     "output_type": "display_data"
    }
   ],
   "source": [
    "#make the scatter plot of Different variables\n",
    "class0=plt.scatter(data_class0[\"Att1\"],data_class0[\"Att2\"],c=\"red\")\n",
    "class1=plt.scatter(data_class1[\"Att1\"],data_class1[\"Att2\"],c=\"blue\")\n",
    "plt.xlabel(\"Att1\")\n",
    "plt.ylabel(\"Att2\")\n",
    "plt.legend((class0,class1),(\"class0\",\"class1\"))\n",
    "plt.show()\n",
    "\n",
    "class0=plt.scatter(data_class0[\"Att1\"],data_class0[\"Att3\"],c=\"red\")\n",
    "class1=plt.scatter(data_class1[\"Att1\"],data_class1[\"Att3\"],c=\"blue\")\n",
    "plt.xlabel(\"Att1\")\n",
    "plt.ylabel(\"Att3\")\n",
    "plt.legend((class0,class1),(\"class0\",\"class1\"))\n",
    "plt.show()\n",
    "\n",
    "class0=plt.scatter(data_class0[\"Att1\"],data_class0[\"Att4\"],c=\"red\")\n",
    "class1=plt.scatter(data_class1[\"Att1\"],data_class1[\"Att4\"],c=\"blue\")\n",
    "plt.xlabel(\"Att1\")\n",
    "plt.ylabel(\"Att4\")\n",
    "plt.legend((class0,class1),(\"class0\",\"class1\"))\n",
    "plt.show()\n",
    "\n",
    "class0=plt.scatter(data_class0[\"Att2\"],data_class0[\"Att3\"],c=\"red\")\n",
    "class1=plt.scatter(data_class1[\"Att2\"],data_class1[\"Att3\"],c=\"blue\")\n",
    "plt.xlabel(\"Att2\")\n",
    "plt.ylabel(\"Att3\")\n",
    "plt.legend((class0,class1),(\"class0\",\"class1\"))\n",
    "plt.show()\n",
    "\n",
    "class0=plt.scatter(data_class0[\"Att2\"],data_class0[\"Att4\"],c=\"red\")\n",
    "class1=plt.scatter(data_class1[\"Att2\"],data_class1[\"Att4\"],c=\"blue\")\n",
    "plt.xlabel(\"Att2\")\n",
    "plt.ylabel(\"Att4\")\n",
    "plt.legend((class0,class1),(\"class0\",\"class1\"))\n",
    "plt.show()\n",
    "\n",
    "class0=plt.scatter(data_class0[\"Att3\"],data_class0[\"Att4\"],c=\"red\")\n",
    "class1=plt.scatter(data_class1[\"Att3\"],data_class1[\"Att4\"],c=\"blue\")\n",
    "plt.xlabel(\"Att3\")\n",
    "plt.ylabel(\"Att4\")\n",
    "plt.legend((class0,class1),(\"class0\",\"class1\"))\n",
    "plt.show()\n",
    "\n"
   ]
  },
  {
   "cell_type": "code",
   "execution_count": 162,
   "metadata": {
    "collapsed": true
   },
   "outputs": [],
   "source": [
    "def transfer_class(data):\n",
    "    data_copy = data.copy(deep=True)\n",
    "    data_copy.loc[data_copy['Class'] == 0, \"Class\"] = \"class_0\" #str(0)\n",
    "    data_copy.loc[data_copy['Class'] == 1, \"Class\"] = \"class_1\" #stre()\n",
    "    return data_copy"
   ]
  },
  {
   "cell_type": "markdown",
   "metadata": {},
   "source": [
    "# Make boxplots for each of the independent variables. Use color to show Classes 0 and 1 (see ISLR p. 129)."
   ]
  },
  {
   "cell_type": "code",
   "execution_count": 163,
   "metadata": {
    "collapsed": true
   },
   "outputs": [],
   "source": [
    "data_transfer=transfer_class(data)"
   ]
  },
  {
   "cell_type": "code",
   "execution_count": 164,
   "metadata": {},
   "outputs": [
    {
     "data": {
      "text/html": [
       "<div>\n",
       "<style scoped>\n",
       "    .dataframe tbody tr th:only-of-type {\n",
       "        vertical-align: middle;\n",
       "    }\n",
       "\n",
       "    .dataframe tbody tr th {\n",
       "        vertical-align: top;\n",
       "    }\n",
       "\n",
       "    .dataframe thead th {\n",
       "        text-align: right;\n",
       "    }\n",
       "</style>\n",
       "<table border=\"1\" class=\"dataframe\">\n",
       "  <thead>\n",
       "    <tr style=\"text-align: right;\">\n",
       "      <th></th>\n",
       "      <th>Att1</th>\n",
       "      <th>Att2</th>\n",
       "      <th>Att3</th>\n",
       "      <th>Att4</th>\n",
       "      <th>Class</th>\n",
       "    </tr>\n",
       "  </thead>\n",
       "  <tbody>\n",
       "    <tr>\n",
       "      <th>0</th>\n",
       "      <td>3.62160</td>\n",
       "      <td>8.6661</td>\n",
       "      <td>-2.8073</td>\n",
       "      <td>-0.44699</td>\n",
       "      <td>class_0</td>\n",
       "    </tr>\n",
       "    <tr>\n",
       "      <th>1</th>\n",
       "      <td>4.54590</td>\n",
       "      <td>8.1674</td>\n",
       "      <td>-2.4586</td>\n",
       "      <td>-1.46210</td>\n",
       "      <td>class_0</td>\n",
       "    </tr>\n",
       "    <tr>\n",
       "      <th>2</th>\n",
       "      <td>3.86600</td>\n",
       "      <td>-2.6383</td>\n",
       "      <td>1.9242</td>\n",
       "      <td>0.10645</td>\n",
       "      <td>class_0</td>\n",
       "    </tr>\n",
       "    <tr>\n",
       "      <th>3</th>\n",
       "      <td>3.45660</td>\n",
       "      <td>9.5228</td>\n",
       "      <td>-4.0112</td>\n",
       "      <td>-3.59440</td>\n",
       "      <td>class_0</td>\n",
       "    </tr>\n",
       "    <tr>\n",
       "      <th>4</th>\n",
       "      <td>0.32924</td>\n",
       "      <td>-4.4552</td>\n",
       "      <td>4.5718</td>\n",
       "      <td>-0.98880</td>\n",
       "      <td>class_0</td>\n",
       "    </tr>\n",
       "  </tbody>\n",
       "</table>\n",
       "</div>"
      ],
      "text/plain": [
       "      Att1    Att2    Att3     Att4    Class\n",
       "0  3.62160  8.6661 -2.8073 -0.44699  class_0\n",
       "1  4.54590  8.1674 -2.4586 -1.46210  class_0\n",
       "2  3.86600 -2.6383  1.9242  0.10645  class_0\n",
       "3  3.45660  9.5228 -4.0112 -3.59440  class_0\n",
       "4  0.32924 -4.4552  4.5718 -0.98880  class_0"
      ]
     },
     "execution_count": 164,
     "metadata": {},
     "output_type": "execute_result"
    }
   ],
   "source": [
    "data_transfer.head()"
   ]
  },
  {
   "cell_type": "code",
   "execution_count": 165,
   "metadata": {},
   "outputs": [
    {
     "data": {
      "text/plain": [
       "<matplotlib.axes._subplots.AxesSubplot at 0x10d087b38>"
      ]
     },
     "execution_count": 165,
     "metadata": {},
     "output_type": "execute_result"
    },
    {
     "data": {
      "image/png": "[encoded data removed]",
      "text/plain": [
       "<matplotlib.figure.Figure at 0x10ebb0dd8>"
      ]
     },
     "metadata": {},
     "output_type": "display_data"
    }
   ],
   "source": [
    "import seaborn as sns\n",
    "\n",
    "my_pal = {\"class_0\": \"g\", \"class_1\": \"b\"}\n",
    "sns.boxplot( x=data_transfer[\"Class\"], y=data[\"Att1\"], palette=my_pal)\n",
    "\n",
    "#sns.plt.show()"
   ]
  },
  {
   "cell_type": "code",
   "execution_count": 166,
   "metadata": {},
   "outputs": [
    {
     "data": {
      "text/plain": [
       "<matplotlib.axes._subplots.AxesSubplot at 0x10e57a208>"
      ]
     },
     "execution_count": 166,
     "metadata": {},
     "output_type": "execute_result"
    },
    {
     "data": {
      "image/png": "[encoded data removed]",
      "text/plain": [
       "<matplotlib.figure.Figure at 0x10e1c14e0>"
      ]
     },
     "metadata": {},
     "output_type": "display_data"
    }
   ],
   "source": [
    "my_pal = {\"class_0\": \"g\", \"class_1\": \"b\"}\n",
    "sns.boxplot( x=data_transfer[\"Class\"], y=data[\"Att2\"], palette=my_pal)"
   ]
  },
  {
   "cell_type": "code",
   "execution_count": 167,
   "metadata": {},
   "outputs": [
    {
     "data": {
      "text/plain": [
       "<matplotlib.axes._subplots.AxesSubplot at 0x10e6cbef0>"
      ]
     },
     "execution_count": 167,
     "metadata": {},
     "output_type": "execute_result"
    },
    {
     "data": {
      "image/png": "[encoded data removed]",
      "text/plain": [
       "<matplotlib.figure.Figure at 0x10e49ee80>"
      ]
     },
     "metadata": {},
     "output_type": "display_data"
    }
   ],
   "source": [
    "my_pal = {\"class_0\": \"g\", \"class_1\": \"b\"}\n",
    "sns.boxplot( x=data_transfer[\"Class\"], y=data[\"Att3\"], palette=my_pal)"
   ]
  },
  {
   "cell_type": "code",
   "execution_count": 168,
   "metadata": {},
   "outputs": [
    {
     "data": {
      "text/plain": [
       "<matplotlib.axes._subplots.AxesSubplot at 0x10e6e11d0>"
      ]
     },
     "execution_count": 168,
     "metadata": {},
     "output_type": "execute_result"
    },
    {
     "data": {
      "image/png": "[encoded data removed]",
      "text/plain": [
       "<matplotlib.figure.Figure at 0x10e6db908>"
      ]
     },
     "metadata": {},
     "output_type": "display_data"
    }
   ],
   "source": [
    "my_pal = {\"class_0\": \"g\", \"class_1\": \"b\"}\n",
    "sns.boxplot( x=data_transfer[\"Class\"], y=data[\"Att4\"], palette=my_pal)"
   ]
  },
  {
   "cell_type": "markdown",
   "metadata": {},
   "source": [
    "# Select the first 200 rows of Class 0 and the first 200 rows of Class 1 as the test set and the rest of the data as the training set."
   ]
  },
  {
   "cell_type": "code",
   "execution_count": 169,
   "metadata": {
    "collapsed": true
   },
   "outputs": [],
   "source": [
    "data_class0_test=data_class0[0:200]\n",
    "data_class1_test=data_class1[0:200]\n",
    "\n",
    "data_class0_train=data_class0[200:]\n",
    "data_class1_train=data_class1[200:]"
   ]
  },
  {
   "cell_type": "code",
   "execution_count": 170,
   "metadata": {
    "collapsed": true
   },
   "outputs": [],
   "source": [
    "test_data_frame=[data_class0_test,data_class1_test]\n",
    "test_data=pd.concat(test_data_frame)\n",
    "\n",
    "train_data_frame=[data_class0_train,data_class1_train]\n",
    "train_data=pd.concat(train_data_frame)"
   ]
  },
  {
   "cell_type": "code",
   "execution_count": 171,
   "metadata": {},
   "outputs": [
    {
     "data": {
      "text/plain": [
       "(400, 5)"
      ]
     },
     "execution_count": 171,
     "metadata": {},
     "output_type": "execute_result"
    }
   ],
   "source": [
    "test_data.shape"
   ]
  },
  {
   "cell_type": "code",
   "execution_count": 172,
   "metadata": {},
   "outputs": [
    {
     "data": {
      "text/plain": [
       "(972, 5)"
      ]
     },
     "execution_count": 172,
     "metadata": {},
     "output_type": "execute_result"
    }
   ],
   "source": [
    "train_data.shape"
   ]
  },
  {
   "cell_type": "code",
   "execution_count": 173,
   "metadata": {
    "collapsed": true
   },
   "outputs": [],
   "source": [
    "train_data=train_data.sample(frac=1)\n",
    "test_data=test_data.sample(frac=1)"
   ]
  },
  {
   "cell_type": "code",
   "execution_count": 174,
   "metadata": {
    "collapsed": true
   },
   "outputs": [],
   "source": [
    "train_data_x=np.array(train_data[[\"Att1\",\"Att2\",\"Att3\",\"Att4\"]])\n",
    "train_data_y=np.array(train_data[\"Class\"])\n",
    "\n",
    "test_data_x=np.array(test_data[[\"Att1\",\"Att2\",\"Att3\",\"Att4\"]])\n",
    "test_data_y=np.array(test_data[\"Class\"])"
   ]
  },
  {
   "cell_type": "markdown",
   "metadata": {},
   "source": [
    "# Write code for k-nearest neighbors with Euclidean metric (or use a software package)."
   ]
  },
  {
   "cell_type": "code",
   "execution_count": 175,
   "metadata": {
    "collapsed": true
   },
   "outputs": [],
   "source": [
    "#classical KNN algroithm \n",
    "from sklearn.metrics import accuracy_score\n",
    "\n",
    "\n",
    "class knn():\n",
    "    def __init__(self):\n",
    "        pass\n",
    "\n",
    "    def train(self, X, y):\n",
    "        self.X_train = X\n",
    "        self.y_train = y\n",
    "        \n",
    "        \n",
    "\n",
    "    def predict(self, X, num, k=3):\n",
    "        dataSet =self.X_train\n",
    "        labels =self.y_train\n",
    "      \n",
    "        dataSetSize = dataSet.shape[0]\n",
    "        diffMat = np.tile(X,(dataSetSize,1)) - dataSet\n",
    "        sqDiffMat = diffMat**2\n",
    "        sumDiffMat = sqDiffMat.sum(axis=1)\n",
    "        distances = sumDiffMat**0.5\n",
    "        sortedDistances = distances.argsort()\n",
    "        classCount = {}\n",
    "        \n",
    "        for i in range(k):\n",
    "            vote = labels[sortedDistances[i]]\n",
    "            classCount[vote] = classCount.get(vote,0) + 1\n",
    "        max_vote = 0\n",
    "        ans = 0\n",
    "        for k,v in classCount.items():\n",
    "            if(v>max_vote):\n",
    "                ans = k\n",
    "                max_vote = v\n",
    "#         print(\"test #\"+ str(num+1) + \" prediction is \" + str(ans)\n",
    "        return(ans)\n",
    "        \n",
    "        "
   ]
  },
  {
   "cell_type": "markdown",
   "metadata": {},
   "source": [
    "# ii. Test all the data in the test database with k nearest neighbors. Take de- cisions by majority polling. Plot train and test errors in terms of 1/k for k 2 {1, 4, 7, . . . , 901}. You are welcome to use smaller increments of k. Which k⇤ is the most suitable k among those values? Calculate the confusion matrix, true positive rate, true negative rate, precision, and F-score when k = k⇤."
   ]
  },
  {
   "cell_type": "code",
   "execution_count": 176,
   "metadata": {
    "collapsed": true
   },
   "outputs": [],
   "source": [
    "from sklearn.neighbors import KNeighborsClassifier\n",
    "from sklearn.metrics import accuracy_score\n",
    "def drawTrainErrorPlot():\n",
    "    K_list=[]\n",
    "    error_list=[]\n",
    "    for i in range(1,901,3):\n",
    "        K_list.append(i)\n",
    "        neigh=KNeighborsClassifier(n_neighbors=i)\n",
    "        neigh.fit(train_data_x,train_data_y)\n",
    "        prediction=neigh.predict(train_data_x)\n",
    "        accuracy = accuracy_score(prediction,train_data_y)\n",
    "        error_rate=1-accuracy\n",
    "        error_list.append(error_rate)\n",
    "    K_reverse_list=[1/k for k in K_list]\n",
    "    plt.plot(K_reverse_list,error_list)\n",
    "    plt.xlabel(\"1/K\")\n",
    "    plt.ylabel(\"The Accuracy rate\")\n",
    "    plt.show()"
   ]
  },
  {
   "cell_type": "code",
   "execution_count": 177,
   "metadata": {},
   "outputs": [
    {
     "data": {
      "image/png": "[encoded data removed]",
      "text/plain": [
       "<matplotlib.figure.Figure at 0x10e6bf470>"
      ]
     },
     "metadata": {},
     "output_type": "display_data"
    }
   ],
   "source": [
    "drawTrainErrorPlot()"
   ]
  },
  {
   "cell_type": "code",
   "execution_count": 178,
   "metadata": {
    "collapsed": true
   },
   "outputs": [],
   "source": [
    "\n",
    "#test error\n",
    "def drawTestErrorPlot():\n",
    "    K_list=[]\n",
    "    error_list=[]\n",
    "    for i in range(1,901,3):\n",
    "        K_list.append(i)\n",
    "        neigh=KNeighborsClassifier(n_neighbors=i)\n",
    "        neigh.fit(train_data_x,train_data_y)\n",
    "        prediction=neigh.predict(test_data_x)\n",
    "        accuracy = accuracy_score(prediction,test_data_y)\n",
    "        error=1-accuracy\n",
    "        error_list.append(error)\n",
    "        #print ('k = '+ str(i) , ' accuracy =' + str(accuracy))\n",
    "    K_reverse_list=[1/k for k in K_list]\n",
    "    plt.plot(K_reverse_list,error_list)\n",
    "    plt.xlabel(\"1/K\")\n",
    "    plt.ylabel(\"The error rate\")\n",
    "    plt.show()\n",
    "    \n",
    "    return error_list\n",
    "    "
   ]
  },
  {
   "cell_type": "code",
   "execution_count": 179,
   "metadata": {},
   "outputs": [
    {
     "data": {
      "image/png": "[encoded data removed]",
      "text/plain": [
       "<matplotlib.figure.Figure at 0x10ed24080>"
      ]
     },
     "metadata": {},
     "output_type": "display_data"
    },
    {
     "name": "stdout",
     "output_type": "stream",
     "text": [
      "The Best K value is 19\n"
     ]
    }
   ],
   "source": [
    "error_list=drawTestErrorPlot()\n",
    "\n",
    "def findTheBestK(error_list):\n",
    "    K_list=[x for x in range(1,901,3)]\n",
    "    min_error=min(error_list)\n",
    "    index=0\n",
    "    for i in range(0,len(error_list)):\n",
    "        if error_list[i]==min_error:\n",
    "            index=i\n",
    "        else:\n",
    "            break\n",
    "    return K_list[index]\n",
    "Best_k=findTheBestK(error_list)\n",
    "print(\"The Best K value is \"+str(Best_k))\n",
    "\n",
    "\n",
    "\n",
    "        "
   ]
  },
  {
   "cell_type": "markdown",
   "metadata": {},
   "source": [
    "# The best split is that when K=19, then the Accuracy is 100%"
   ]
  },
  {
   "cell_type": "code",
   "execution_count": 180,
   "metadata": {},
   "outputs": [
    {
     "name": "stdout",
     "output_type": "stream",
     "text": [
      "[[200   0]\n",
      " [  0 200]]\n",
      "True Positive Rate is 1.0\n",
      "true negative rate 1.0\n",
      "Precision is 1.0\n",
      "F1 score is 1.0\n"
     ]
    }
   ],
   "source": [
    "from sklearn.metrics import confusion_matrix \n",
    "neigh=KNeighborsClassifier(n_neighbors=19) \n",
    "neigh.fit(train_data_x,train_data_y) \n",
    "prediction=neigh.predict(test_data_x) \n",
    "accuracy = accuracy_score(prediction,test_data_y) \n",
    "matrix=confusion_matrix(prediction,test_data_y)\n",
    "\n",
    "print(matrix) \n",
    "print(\"True Positive Rate is \"+str(200/200)) \n",
    "print(\"true negative rate \"+str(200/200)) \n",
    "print(\"Precision is \"+str(200/200))\n",
    "print(\"F1 score is \"+str(2/(1+1)))\n",
    "\n",
    "#TPR的概念\n",
    "#TNR的概念"
   ]
  },
  {
   "cell_type": "markdown",
   "metadata": {},
   "source": [
    "# Since the computation time depends on the size of the training set, one may only use a subset of the training set. Plot the best error rate, which is obtained by some value of k, against the size of training set, when the size of training set is N 2 {50, 100, 150, . . . , 900}.1 Note: for each N , select your training set by choosing the first N/2 rows of Class 0 and the first N/2 rows of Class 1 in the training set you creatd in 1(b)iii. Also, for each N, select the optimal k from a set starting from k = 1, increasing by 40. For example, if N = 250, the optimal k is selected from {1, 41, 81, . . . , 241}. This plot is called a Learning Curve."
   ]
  },
  {
   "cell_type": "code",
   "execution_count": 181,
   "metadata": {
    "collapsed": true
   },
   "outputs": [],
   "source": [
    "data.head()\n",
    "data_class0=data[data[\"Class\"]==0]\n",
    "data_class1=data[data[\"Class\"]==1]\n",
    "#get the half N data from the class 0 and class1 "
   ]
  },
  {
   "cell_type": "code",
   "execution_count": 182,
   "metadata": {
    "collapsed": true
   },
   "outputs": [],
   "source": [
    "def GetSpecificTrainSet(number):\n",
    "    half_number=int(number/2)\n",
    "    \n",
    "    data_class0_train=data_class0[0:half_number]\n",
    "    data_class1_train=data_class1[0:half_number]\n",
    "    train_data_df=[data_class0_train,data_class1_train]\n",
    "    train_data=pd.concat(train_data_df)\n",
    "    \n",
    "    data_class0_test=data_class0[half_number:]\n",
    "    data_class1_test=data_class1[half_number:]\n",
    "    test_data_df=[data_class0_test,data_class1_test]\n",
    "    test_data=pd.concat(test_data_df)\n",
    "    return train_data,test_data\n",
    "    \n",
    "    "
   ]
  },
  {
   "cell_type": "code",
   "execution_count": 183,
   "metadata": {
    "collapsed": true
   },
   "outputs": [],
   "source": [
    "def MakePlotBetweenNumberAndBestAccuracy():\n",
    "    accuracy_list=[]\n",
    "    for i in range(50,950,50):\n",
    "        train_data,test_data=GetSpecificTrainSet(i)\n",
    "        train_data_x=np.array(train_data[[\"Att1\",\"Att2\",\"Att3\",\"Att4\"]])\n",
    "        train_data_y=np.array(train_data[\"Class\"])\n",
    "        \n",
    "        test_data_x=np.array(test_data[[\"Att1\",\"Att2\",\"Att3\",\"Att4\"]])\n",
    "        test_data_y=np.array(test_data[\"Class\"])\n",
    "        res=0\n",
    "        for j in range(1,i,40):\n",
    "            neigh=KNeighborsClassifier(n_neighbors=j)\n",
    "            neigh.fit(train_data_x,train_data_y)\n",
    "            prediction=neigh.predict(test_data_x)\n",
    "            accuracy=accuracy_score(prediction,test_data_y)\n",
    "            if accuracy>res:\n",
    "                res=accuracy\n",
    "        accuracy_list.append(res)\n",
    "    return accuracy_list\n",
    "            \n",
    "            \n",
    "            \n",
    "            \n",
    "            "
   ]
  },
  {
   "cell_type": "code",
   "execution_count": 184,
   "metadata": {
    "collapsed": true
   },
   "outputs": [],
   "source": [
    "Accuracy_list=MakePlotBetweenNumberAndBestAccuracy()\n",
    "Y=[1-x for x in Accuracy_list]"
   ]
  },
  {
   "cell_type": "code",
   "execution_count": 185,
   "metadata": {
    "collapsed": true
   },
   "outputs": [],
   "source": [
    "X=[x for x in range(50,950,50)]"
   ]
  },
  {
   "cell_type": "code",
   "execution_count": 186,
   "metadata": {},
   "outputs": [
    {
     "data": {
      "image/png": "[encoded data removed]",
      "text/plain": [
       "<matplotlib.figure.Figure at 0x10ed598d0>"
      ]
     },
     "metadata": {},
     "output_type": "display_data"
    }
   ],
   "source": [
    "plt.plot(X,Y)\n",
    "plt.xlabel(\"The number of train set\")\n",
    "plt.ylabel(\"The Error rate score\")\n",
    "plt.show()"
   ]
  },
  {
   "cell_type": "markdown",
   "metadata": {},
   "source": [
    "# Replace the Euclidean metric with the following metrics2 and test them. Sum- marize the test errors (i.e., when k = k⇤) in a table. Use all of your training data and select the best k when k 2 {1,11,21,...,901}"
   ]
  },
  {
   "cell_type": "markdown",
   "metadata": {},
   "source": [
    "# i. Minkowski Distance:A. which becomes Manhattan Distance with p = 1.\n"
   ]
  },
  {
   "cell_type": "code",
   "execution_count": 187,
   "metadata": {
    "collapsed": true
   },
   "outputs": [],
   "source": [
    "class knn_Minkowski():\n",
    "    def __init__(self):\n",
    "        pass\n",
    "\n",
    "    def train(self, X, y):\n",
    "        self.X_train = X\n",
    "        self.y_train = y\n",
    "        \n",
    "        \n",
    "\n",
    "    def predict(self, X, num, k=3):\n",
    "        dataSet =self.X_train\n",
    "        labels =self.y_train\n",
    "      \n",
    "        dataSetSize = dataSet.shape[0]\n",
    "        diffMat = np.tile(X,(dataSetSize,1)) - dataSet\n",
    "        sqDiffMat = pd.DataFrame(transferMatrix(diffMat))\n",
    "        sumDiffMat = sqDiffMat.sum(axis=1)\n",
    "        distances = sumDiffMat\n",
    "        sortedDistances = distances.argsort()\n",
    "        classCount = {}\n",
    "        \n",
    "        for i in range(k):\n",
    "            vote = labels[sortedDistances[i]]\n",
    "            classCount[vote] = classCount.get(vote,0) + 1\n",
    "        max_vote = 0\n",
    "        ans = 0\n",
    "        for k,v in classCount.items():\n",
    "            if(v>max_vote):\n",
    "                ans = k\n",
    "                max_vote = v\n",
    "#         print(\"test #\"+ str(num+1) + \" prediction is \" + str(ans)\n",
    "        return(ans)"
   ]
  },
  {
   "cell_type": "code",
   "execution_count": 188,
   "metadata": {
    "collapsed": true
   },
   "outputs": [],
   "source": [
    "def transferMatrix(matrix):\n",
    "    all_list=[]\n",
    "    for i in range(0,len(matrix)):\n",
    "        row_list=[]\n",
    "        for j in range(0,len(matrix[0])):\n",
    "            number=abs(matrix[i][j])\n",
    "            row_list.append(number)\n",
    "        all_list.append(row_list)\n",
    "    return all_list\n",
    "    "
   ]
  },
  {
   "cell_type": "code",
   "execution_count": 189,
   "metadata": {},
   "outputs": [
    {
     "name": "stdout",
     "output_type": "stream",
     "text": [
      "The current K is: 1 The current Test Error is: 0.0\n",
      "The current K is: 11 The current Test Error is: 0.0\n",
      "The current K is: 21 The current Test Error is: 0.0024999999999999467\n",
      "The current K is: 31 The current Test Error is: 0.007499999999999951\n",
      "The current K is: 41 The current Test Error is: 0.0024999999999999467\n",
      "The current K is: 51 The current Test Error is: 0.0024999999999999467\n",
      "The current K is: 61 The current Test Error is: 0.010000000000000009\n",
      "The current K is: 71 The current Test Error is: 0.015000000000000013\n",
      "The current K is: 81 The current Test Error is: 0.022499999999999964\n",
      "The current K is: 91 The current Test Error is: 0.022499999999999964\n",
      "The current K is: 101 The current Test Error is: 0.030000000000000027\n",
      "The current K is: 111 The current Test Error is: 0.03249999999999997\n",
      "The current K is: 121 The current Test Error is: 0.03249999999999997\n",
      "The current K is: 131 The current Test Error is: 0.040000000000000036\n",
      "The current K is: 141 The current Test Error is: 0.04249999999999998\n",
      "The current K is: 151 The current Test Error is: 0.050000000000000044\n",
      "The current K is: 161 The current Test Error is: 0.05249999999999999\n",
      "The current K is: 171 The current Test Error is: 0.06000000000000005\n",
      "The current K is: 181 The current Test Error is: 0.06000000000000005\n",
      "The current K is: 191 The current Test Error is: 0.0675\n",
      "The current K is: 201 The current Test Error is: 0.07750000000000001\n",
      "The current K is: 211 The current Test Error is: 0.07499999999999996\n",
      "The current K is: 221 The current Test Error is: 0.08499999999999996\n",
      "The current K is: 231 The current Test Error is: 0.08250000000000002\n",
      "The current K is: 241 The current Test Error is: 0.08999999999999997\n",
      "The current K is: 251 The current Test Error is: 0.09499999999999997\n",
      "The current K is: 261 The current Test Error is: 0.09999999999999998\n",
      "The current K is: 271 The current Test Error is: 0.10250000000000004\n",
      "The current K is: 281 The current Test Error is: 0.10499999999999998\n",
      "The current K is: 291 The current Test Error is: 0.10999999999999999\n",
      "The current K is: 301 The current Test Error is: 0.10999999999999999\n",
      "The current K is: 311 The current Test Error is: 0.10999999999999999\n",
      "The current K is: 321 The current Test Error is: 0.12250000000000005\n",
      "The current K is: 331 The current Test Error is: 0.12749999999999995\n",
      "The current K is: 341 The current Test Error is: 0.13249999999999995\n",
      "The current K is: 351 The current Test Error is: 0.14500000000000002\n",
      "The current K is: 361 The current Test Error is: 0.15000000000000002\n",
      "The current K is: 371 The current Test Error is: 0.15500000000000003\n",
      "The current K is: 381 The current Test Error is: 0.16000000000000003\n",
      "The current K is: 391 The current Test Error is: 0.1875\n",
      "The current K is: 401 The current Test Error is: 0.1925\n",
      "The current K is: 411 The current Test Error is: 0.20750000000000002\n",
      "The current K is: 421 The current Test Error is: 0.21499999999999997\n",
      "The current K is: 431 The current Test Error is: 0.21750000000000003\n",
      "The current K is: 441 The current Test Error is: 0.22499999999999998\n",
      "The current K is: 451 The current Test Error is: 0.22999999999999998\n",
      "The current K is: 461 The current Test Error is: 0.23750000000000004\n",
      "The current K is: 471 The current Test Error is: 0.25249999999999995\n",
      "The current K is: 481 The current Test Error is: 0.26749999999999996\n",
      "The current K is: 491 The current Test Error is: 0.28\n",
      "The current K is: 501 The current Test Error is: 0.30000000000000004\n",
      "The current K is: 511 The current Test Error is: 0.3175\n",
      "The current K is: 521 The current Test Error is: 0.3325\n",
      "The current K is: 531 The current Test Error is: 0.3325\n",
      "The current K is: 541 The current Test Error is: 0.35\n",
      "The current K is: 551 The current Test Error is: 0.355\n",
      "The current K is: 561 The current Test Error is: 0.36750000000000005\n",
      "The current K is: 571 The current Test Error is: 0.365\n",
      "The current K is: 581 The current Test Error is: 0.36250000000000004\n",
      "The current K is: 591 The current Test Error is: 0.36750000000000005\n",
      "The current K is: 601 The current Test Error is: 0.365\n",
      "The current K is: 611 The current Test Error is: 0.365\n",
      "The current K is: 621 The current Test Error is: 0.365\n",
      "The current K is: 631 The current Test Error is: 0.36250000000000004\n",
      "The current K is: 641 The current Test Error is: 0.36\n",
      "The current K is: 651 The current Test Error is: 0.35750000000000004\n",
      "The current K is: 661 The current Test Error is: 0.36\n",
      "The current K is: 671 The current Test Error is: 0.36\n",
      "The current K is: 681 The current Test Error is: 0.365\n",
      "The current K is: 691 The current Test Error is: 0.37\n",
      "The current K is: 701 The current Test Error is: 0.375\n",
      "The current K is: 711 The current Test Error is: 0.405\n",
      "The current K is: 721 The current Test Error is: 0.4375\n",
      "The current K is: 731 The current Test Error is: 0.4525\n",
      "The current K is: 741 The current Test Error is: 0.4625\n",
      "The current K is: 751 The current Test Error is: 0.46499999999999997\n",
      "The current K is: 761 The current Test Error is: 0.4625\n",
      "The current K is: 771 The current Test Error is: 0.47\n",
      "The current K is: 781 The current Test Error is: 0.47250000000000003\n",
      "The current K is: 791 The current Test Error is: 0.48250000000000004\n",
      "The current K is: 801 The current Test Error is: 0.49\n",
      "The current K is: 811 The current Test Error is: 0.49250000000000005\n",
      "The current K is: 821 The current Test Error is: 0.5\n",
      "The current K is: 831 The current Test Error is: 0.5\n",
      "The current K is: 841 The current Test Error is: 0.5\n",
      "The current K is: 851 The current Test Error is: 0.5\n",
      "The current K is: 861 The current Test Error is: 0.5\n",
      "The current K is: 871 The current Test Error is: 0.5\n",
      "The current K is: 881 The current Test Error is: 0.5\n",
      "The current K is: 891 The current Test Error is: 0.5\n",
      "The current K is: 901 The current Test Error is: 0.5\n"
     ]
    }
   ],
   "source": [
    "def Manhattan_Distance():\n",
    "    for k in range(1,911,10):\n",
    "        neighbor=k\n",
    "        KNN=KNeighborsClassifier(n_neighbors=neighbor,p=1)\n",
    "        KNN.fit(train_data_x,train_data_y)\n",
    "        predictions=KNN.predict(test_data_x)\n",
    "        accuracy=accuracy_score(predictions,test_data_y)\n",
    "        print(\"The current K is: \"+str(neighbor)+\" The current Test Error is: \"+str(1-accuracy))\n",
    "Manhattan_Distance()\n",
    "        \n",
    "\n",
    "\n",
    "\n",
    "\n",
    "\n"
   ]
  },
  {
   "cell_type": "markdown",
   "metadata": {},
   "source": [
    "# with log10(p) 2 {0.1,0.2,0.3,...,1}. In this case, use the k⇤ you found for the Manhattan distance in 1(d)iA. What is the best log10(p)?"
   ]
  },
  {
   "cell_type": "code",
   "execution_count": 190,
   "metadata": {
    "collapsed": true
   },
   "outputs": [],
   "source": [
    "def getPList():\n",
    "    i=0\n",
    "    p_list=[]\n",
    "    while i<=1:\n",
    "        i=i+0.1\n",
    "        p=10**i\n",
    "        p_list.append(p)\n",
    "    return p_list"
   ]
  },
  {
   "cell_type": "code",
   "execution_count": 191,
   "metadata": {
    "collapsed": true
   },
   "outputs": [],
   "source": [
    "def getBestPValue():\n",
    "    plist=getPList()\n",
    "    res=0\n",
    "    target_p=0\n",
    "    for p_value in plist:\n",
    "        neigh=KNeighborsClassifier(n_neighbors=11,p=p_value)\n",
    "        neigh.fit(train_data_x,train_data_y)\n",
    "        predictions=neigh.predict(test_data_x)\n",
    "        accuracy=accuracy_score(predictions,test_data_y)\n",
    "        if accuracy>=res:\n",
    "            res=accuracy\n",
    "            target_p=p_value\n",
    "        else:\n",
    "            break\n",
    "    return target_p,res\n",
    "    #return res,target_p\n",
    "        "
   ]
  },
  {
   "cell_type": "code",
   "execution_count": 192,
   "metadata": {},
   "outputs": [
    {
     "name": "stdout",
     "output_type": "stream",
     "text": [
      "The Best Test Error is 0.0\n",
      "The Best K is 12.589254117941667\n"
     ]
    }
   ],
   "source": [
    "\n",
    "P_value,Accuracy=getBestPValue()\n",
    "print(\"The Best Test Error is \"+str(1-Accuracy))\n",
    "print(\"The Best K is \"+str(P_value))"
   ]
  },
  {
   "cell_type": "markdown",
   "metadata": {},
   "source": [
    "# which becomes Chebyshev Distance with p -》inf"
   ]
  },
  {
   "cell_type": "code",
   "execution_count": 193,
   "metadata": {},
   "outputs": [
    {
     "name": "stdout",
     "output_type": "stream",
     "text": [
      "The current K is: 1 The current Test Error is: 0.0\n",
      "The current K is: 11 The current Test Error is: 0.09250000000000003\n",
      "The current K is: 21 The current Test Error is: 0.2875\n",
      "The current K is: 31 The current Test Error is: 0.4225\n",
      "The current K is: 41 The current Test Error is: 0.48750000000000004\n",
      "The current K is: 51 The current Test Error is: 0.5\n",
      "The current K is: 61 The current Test Error is: 0.5\n",
      "The current K is: 71 The current Test Error is: 0.5\n",
      "The current K is: 81 The current Test Error is: 0.5\n",
      "The current K is: 91 The current Test Error is: 0.5\n",
      "The current K is: 101 The current Test Error is: 0.5\n",
      "The current K is: 111 The current Test Error is: 0.5\n",
      "The current K is: 121 The current Test Error is: 0.5\n",
      "The current K is: 131 The current Test Error is: 0.5\n",
      "The current K is: 141 The current Test Error is: 0.5\n",
      "The current K is: 151 The current Test Error is: 0.5\n",
      "The current K is: 161 The current Test Error is: 0.5\n",
      "The current K is: 171 The current Test Error is: 0.5\n",
      "The current K is: 181 The current Test Error is: 0.5\n",
      "The current K is: 191 The current Test Error is: 0.5\n",
      "The current K is: 201 The current Test Error is: 0.5\n",
      "The current K is: 211 The current Test Error is: 0.5\n",
      "The current K is: 221 The current Test Error is: 0.5\n",
      "The current K is: 231 The current Test Error is: 0.5\n",
      "The current K is: 241 The current Test Error is: 0.5\n",
      "The current K is: 251 The current Test Error is: 0.5\n",
      "The current K is: 261 The current Test Error is: 0.5\n",
      "The current K is: 271 The current Test Error is: 0.5\n",
      "The current K is: 281 The current Test Error is: 0.5\n",
      "The current K is: 291 The current Test Error is: 0.5\n",
      "The current K is: 301 The current Test Error is: 0.5\n",
      "The current K is: 311 The current Test Error is: 0.5\n",
      "The current K is: 321 The current Test Error is: 0.5\n",
      "The current K is: 331 The current Test Error is: 0.5\n",
      "The current K is: 341 The current Test Error is: 0.5\n",
      "The current K is: 351 The current Test Error is: 0.5\n",
      "The current K is: 361 The current Test Error is: 0.5\n",
      "The current K is: 371 The current Test Error is: 0.5\n",
      "The current K is: 381 The current Test Error is: 0.5\n",
      "The current K is: 391 The current Test Error is: 0.5\n",
      "The current K is: 401 The current Test Error is: 0.5\n",
      "The current K is: 411 The current Test Error is: 0.5\n",
      "The current K is: 421 The current Test Error is: 0.5\n",
      "The current K is: 431 The current Test Error is: 0.5\n",
      "The current K is: 441 The current Test Error is: 0.5\n",
      "The current K is: 451 The current Test Error is: 0.5\n",
      "The current K is: 461 The current Test Error is: 0.5\n",
      "The current K is: 471 The current Test Error is: 0.5\n",
      "The current K is: 481 The current Test Error is: 0.5\n",
      "The current K is: 491 The current Test Error is: 0.5\n",
      "The current K is: 501 The current Test Error is: 0.5\n",
      "The current K is: 511 The current Test Error is: 0.5\n",
      "The current K is: 521 The current Test Error is: 0.5\n",
      "The current K is: 531 The current Test Error is: 0.5\n",
      "The current K is: 541 The current Test Error is: 0.5\n",
      "The current K is: 551 The current Test Error is: 0.5\n",
      "The current K is: 561 The current Test Error is: 0.5\n",
      "The current K is: 571 The current Test Error is: 0.5\n",
      "The current K is: 581 The current Test Error is: 0.5\n",
      "The current K is: 591 The current Test Error is: 0.5\n",
      "The current K is: 601 The current Test Error is: 0.5\n",
      "The current K is: 611 The current Test Error is: 0.5\n",
      "The current K is: 621 The current Test Error is: 0.5\n",
      "The current K is: 631 The current Test Error is: 0.5\n",
      "The current K is: 641 The current Test Error is: 0.5\n",
      "The current K is: 651 The current Test Error is: 0.5\n",
      "The current K is: 661 The current Test Error is: 0.5\n",
      "The current K is: 671 The current Test Error is: 0.5\n",
      "The current K is: 681 The current Test Error is: 0.5\n",
      "The current K is: 691 The current Test Error is: 0.5\n",
      "The current K is: 701 The current Test Error is: 0.5\n",
      "The current K is: 711 The current Test Error is: 0.5\n",
      "The current K is: 721 The current Test Error is: 0.5\n",
      "The current K is: 731 The current Test Error is: 0.5\n",
      "The current K is: 741 The current Test Error is: 0.5\n",
      "The current K is: 751 The current Test Error is: 0.5\n",
      "The current K is: 761 The current Test Error is: 0.5\n",
      "The current K is: 771 The current Test Error is: 0.5\n",
      "The current K is: 781 The current Test Error is: 0.5\n",
      "The current K is: 791 The current Test Error is: 0.5\n",
      "The current K is: 801 The current Test Error is: 0.5\n",
      "The current K is: 811 The current Test Error is: 0.5\n",
      "The current K is: 821 The current Test Error is: 0.5\n",
      "The current K is: 831 The current Test Error is: 0.5\n",
      "The current K is: 841 The current Test Error is: 0.5\n",
      "The current K is: 851 The current Test Error is: 0.5\n",
      "The current K is: 861 The current Test Error is: 0.5\n",
      "The current K is: 871 The current Test Error is: 0.5\n",
      "The current K is: 881 The current Test Error is: 0.5\n",
      "The current K is: 891 The current Test Error is: 0.5\n",
      "The current K is: 901 The current Test Error is: 0.5\n"
     ]
    }
   ],
   "source": [
    "import sys\n",
    "max_number=sys.maxsize\n",
    "\n",
    "def InfNeightResult():\n",
    "    for k in range(1,911,10):\n",
    "        neighbor=k\n",
    "        KNN=KNeighborsClassifier(n_neighbors=neighbor,p=max_number)\n",
    "        KNN.fit(train_data_x,train_data_y)\n",
    "        predictions=KNN.predict(test_data_x)\n",
    "        accuracy=accuracy_score(predictions,test_data_y)\n",
    "        print(\"The current K is: \"+str(neighbor)+\" The current Test Error is: \"+str(1-accuracy))\n",
    "\n",
    "InfNeightResult()"
   ]
  },
  {
   "cell_type": "markdown",
   "metadata": {},
   "source": [
    "# D(2).Mahalanobis Distance"
   ]
  },
  {
   "cell_type": "code",
   "execution_count": 194,
   "metadata": {
    "collapsed": true
   },
   "outputs": [],
   "source": [
    "import numpy as np\n",
    "from sklearn.datasets import make_classification\n",
    "from sklearn.neighbors import DistanceMetric"
   ]
  },
  {
   "cell_type": "code",
   "execution_count": 195,
   "metadata": {},
   "outputs": [
    {
     "name": "stdout",
     "output_type": "stream",
     "text": [
      "The current K is: 1 The current Test Error is: 0.0\n",
      "The current K is: 11 The current Test Error is: 0.0\n",
      "The current K is: 21 The current Test Error is: 0.0050000000000000044\n",
      "The current K is: 31 The current Test Error is: 0.0050000000000000044\n",
      "The current K is: 41 The current Test Error is: 0.0050000000000000044\n",
      "The current K is: 51 The current Test Error is: 0.007499999999999951\n",
      "The current K is: 61 The current Test Error is: 0.010000000000000009\n",
      "The current K is: 71 The current Test Error is: 0.0050000000000000044\n",
      "The current K is: 81 The current Test Error is: 0.0050000000000000044\n",
      "The current K is: 91 The current Test Error is: 0.0050000000000000044\n",
      "The current K is: 101 The current Test Error is: 0.0050000000000000044\n",
      "The current K is: 111 The current Test Error is: 0.0024999999999999467\n",
      "The current K is: 121 The current Test Error is: 0.0024999999999999467\n",
      "The current K is: 131 The current Test Error is: 0.007499999999999951\n",
      "The current K is: 141 The current Test Error is: 0.007499999999999951\n",
      "The current K is: 151 The current Test Error is: 0.007499999999999951\n",
      "The current K is: 161 The current Test Error is: 0.007499999999999951\n",
      "The current K is: 171 The current Test Error is: 0.007499999999999951\n",
      "The current K is: 181 The current Test Error is: 0.007499999999999951\n",
      "The current K is: 191 The current Test Error is: 0.007499999999999951\n",
      "The current K is: 201 The current Test Error is: 0.007499999999999951\n",
      "The current K is: 211 The current Test Error is: 0.007499999999999951\n",
      "The current K is: 221 The current Test Error is: 0.010000000000000009\n",
      "The current K is: 231 The current Test Error is: 0.012499999999999956\n",
      "The current K is: 241 The current Test Error is: 0.01749999999999996\n",
      "The current K is: 251 The current Test Error is: 0.02749999999999997\n",
      "The current K is: 261 The current Test Error is: 0.030000000000000027\n",
      "The current K is: 271 The current Test Error is: 0.040000000000000036\n",
      "The current K is: 281 The current Test Error is: 0.040000000000000036\n",
      "The current K is: 291 The current Test Error is: 0.04500000000000004\n",
      "The current K is: 301 The current Test Error is: 0.04749999999999999\n",
      "The current K is: 311 The current Test Error is: 0.050000000000000044\n",
      "The current K is: 321 The current Test Error is: 0.050000000000000044\n",
      "The current K is: 331 The current Test Error is: 0.050000000000000044\n",
      "The current K is: 341 The current Test Error is: 0.050000000000000044\n",
      "The current K is: 351 The current Test Error is: 0.04749999999999999\n",
      "The current K is: 361 The current Test Error is: 0.05249999999999999\n",
      "The current K is: 371 The current Test Error is: 0.04749999999999999\n",
      "The current K is: 381 The current Test Error is: 0.04500000000000004\n",
      "The current K is: 391 The current Test Error is: 0.04500000000000004\n",
      "The current K is: 401 The current Test Error is: 0.04749999999999999\n",
      "The current K is: 411 The current Test Error is: 0.050000000000000044\n",
      "The current K is: 421 The current Test Error is: 0.05500000000000005\n",
      "The current K is: 431 The current Test Error is: 0.05500000000000005\n",
      "The current K is: 441 The current Test Error is: 0.057499999999999996\n",
      "The current K is: 451 The current Test Error is: 0.06000000000000005\n",
      "The current K is: 461 The current Test Error is: 0.0625\n",
      "The current K is: 471 The current Test Error is: 0.0675\n",
      "The current K is: 481 The current Test Error is: 0.0675\n",
      "The current K is: 491 The current Test Error is: 0.0675\n",
      "The current K is: 501 The current Test Error is: 0.07750000000000001\n",
      "The current K is: 511 The current Test Error is: 0.07499999999999996\n",
      "The current K is: 521 The current Test Error is: 0.08250000000000002\n",
      "The current K is: 531 The current Test Error is: 0.08999999999999997\n",
      "The current K is: 541 The current Test Error is: 0.10499999999999998\n",
      "The current K is: 551 The current Test Error is: 0.09750000000000003\n",
      "The current K is: 561 The current Test Error is: 0.10999999999999999\n",
      "The current K is: 571 The current Test Error is: 0.125\n",
      "The current K is: 581 The current Test Error is: 0.13749999999999996\n",
      "The current K is: 591 The current Test Error is: 0.15500000000000003\n",
      "The current K is: 601 The current Test Error is: 0.1975\n",
      "The current K is: 611 The current Test Error is: 0.20499999999999996\n",
      "The current K is: 621 The current Test Error is: 0.22250000000000003\n",
      "The current K is: 631 The current Test Error is: 0.255\n",
      "The current K is: 641 The current Test Error is: 0.26249999999999996\n",
      "The current K is: 651 The current Test Error is: 0.2875\n",
      "The current K is: 661 The current Test Error is: 0.30000000000000004\n",
      "The current K is: 671 The current Test Error is: 0.32499999999999996\n",
      "The current K is: 681 The current Test Error is: 0.36250000000000004\n",
      "The current K is: 691 The current Test Error is: 0.39\n",
      "The current K is: 701 The current Test Error is: 0.4075\n",
      "The current K is: 711 The current Test Error is: 0.41500000000000004\n",
      "The current K is: 721 The current Test Error is: 0.4225\n",
      "The current K is: 731 The current Test Error is: 0.4425\n",
      "The current K is: 741 The current Test Error is: 0.4475\n",
      "The current K is: 751 The current Test Error is: 0.45999999999999996\n",
      "The current K is: 761 The current Test Error is: 0.45999999999999996\n",
      "The current K is: 771 The current Test Error is: 0.47250000000000003\n",
      "The current K is: 781 The current Test Error is: 0.48750000000000004\n",
      "The current K is: 791 The current Test Error is: 0.49250000000000005\n",
      "The current K is: 801 The current Test Error is: 0.49750000000000005\n",
      "The current K is: 811 The current Test Error is: 0.5\n",
      "The current K is: 821 The current Test Error is: 0.5\n",
      "The current K is: 831 The current Test Error is: 0.5\n",
      "The current K is: 841 The current Test Error is: 0.5\n",
      "The current K is: 851 The current Test Error is: 0.5\n",
      "The current K is: 861 The current Test Error is: 0.5\n",
      "The current K is: 871 The current Test Error is: 0.5\n",
      "The current K is: 881 The current Test Error is: 0.5\n",
      "The current K is: 891 The current Test Error is: 0.5\n",
      "The current K is: 901 The current Test Error is: 0.5\n"
     ]
    }
   ],
   "source": [
    "def Mahalanobis_distance():\n",
    "    for k in range(1,911,10):\n",
    "        classifier=KNeighborsClassifier(n_neighbors=k,algorithm=\"brute\",metric='mahalanobis', \n",
    "                                       metric_params={'V': np.cov(X)})\n",
    "        classifier.fit(train_data_x,train_data_y)\n",
    "        predictions=classifier.predict(test_data_x)\n",
    "        accuracy=accuracy_score(predictions,test_data_y)\n",
    "        print(\"The current K is: \"+str(k)+\" The current Test Error is: \"+str(1-accuracy))\n",
    "Mahalanobis_distance()"
   ]
  },
  {
   "cell_type": "markdown",
   "metadata": {},
   "source": [
    "# E(1).Weight Change"
   ]
  },
  {
   "cell_type": "code",
   "execution_count": 196,
   "metadata": {},
   "outputs": [
    {
     "name": "stdout",
     "output_type": "stream",
     "text": [
      "The current K is: 1 The current Test Error is: 0.0\n",
      "The current K is: 11 The current Test Error is: 0.0\n",
      "The current K is: 21 The current Test Error is: 0.0\n",
      "The current K is: 31 The current Test Error is: 0.0\n",
      "The current K is: 41 The current Test Error is: 0.0\n",
      "The current K is: 51 The current Test Error is: 0.0\n",
      "The current K is: 61 The current Test Error is: 0.0024999999999999467\n",
      "The current K is: 71 The current Test Error is: 0.0024999999999999467\n",
      "The current K is: 81 The current Test Error is: 0.0024999999999999467\n",
      "The current K is: 91 The current Test Error is: 0.0024999999999999467\n",
      "The current K is: 101 The current Test Error is: 0.0050000000000000044\n",
      "The current K is: 111 The current Test Error is: 0.0050000000000000044\n",
      "The current K is: 121 The current Test Error is: 0.0050000000000000044\n",
      "The current K is: 131 The current Test Error is: 0.0024999999999999467\n",
      "The current K is: 141 The current Test Error is: 0.0024999999999999467\n",
      "The current K is: 151 The current Test Error is: 0.0024999999999999467\n",
      "The current K is: 161 The current Test Error is: 0.0050000000000000044\n",
      "The current K is: 171 The current Test Error is: 0.0024999999999999467\n",
      "The current K is: 181 The current Test Error is: 0.0024999999999999467\n",
      "The current K is: 191 The current Test Error is: 0.0024999999999999467\n",
      "The current K is: 201 The current Test Error is: 0.0024999999999999467\n",
      "The current K is: 211 The current Test Error is: 0.0024999999999999467\n",
      "The current K is: 221 The current Test Error is: 0.0024999999999999467\n",
      "The current K is: 231 The current Test Error is: 0.0024999999999999467\n",
      "The current K is: 241 The current Test Error is: 0.0024999999999999467\n",
      "The current K is: 251 The current Test Error is: 0.0024999999999999467\n",
      "The current K is: 261 The current Test Error is: 0.0024999999999999467\n",
      "The current K is: 271 The current Test Error is: 0.0024999999999999467\n",
      "The current K is: 281 The current Test Error is: 0.0024999999999999467\n",
      "The current K is: 291 The current Test Error is: 0.0024999999999999467\n",
      "The current K is: 301 The current Test Error is: 0.0050000000000000044\n",
      "The current K is: 311 The current Test Error is: 0.0050000000000000044\n",
      "The current K is: 321 The current Test Error is: 0.0050000000000000044\n",
      "The current K is: 331 The current Test Error is: 0.0050000000000000044\n",
      "The current K is: 341 The current Test Error is: 0.0050000000000000044\n",
      "The current K is: 351 The current Test Error is: 0.0050000000000000044\n",
      "The current K is: 361 The current Test Error is: 0.0050000000000000044\n",
      "The current K is: 371 The current Test Error is: 0.0050000000000000044\n",
      "The current K is: 381 The current Test Error is: 0.0050000000000000044\n",
      "The current K is: 391 The current Test Error is: 0.0050000000000000044\n",
      "The current K is: 401 The current Test Error is: 0.0050000000000000044\n",
      "The current K is: 411 The current Test Error is: 0.0050000000000000044\n",
      "The current K is: 421 The current Test Error is: 0.0050000000000000044\n",
      "The current K is: 431 The current Test Error is: 0.0050000000000000044\n",
      "The current K is: 441 The current Test Error is: 0.0050000000000000044\n",
      "The current K is: 451 The current Test Error is: 0.0050000000000000044\n",
      "The current K is: 461 The current Test Error is: 0.0050000000000000044\n",
      "The current K is: 471 The current Test Error is: 0.0050000000000000044\n",
      "The current K is: 481 The current Test Error is: 0.0050000000000000044\n",
      "The current K is: 491 The current Test Error is: 0.0050000000000000044\n",
      "The current K is: 501 The current Test Error is: 0.0050000000000000044\n",
      "The current K is: 511 The current Test Error is: 0.007499999999999951\n",
      "The current K is: 521 The current Test Error is: 0.007499999999999951\n",
      "The current K is: 531 The current Test Error is: 0.010000000000000009\n",
      "The current K is: 541 The current Test Error is: 0.010000000000000009\n",
      "The current K is: 551 The current Test Error is: 0.010000000000000009\n",
      "The current K is: 561 The current Test Error is: 0.012499999999999956\n",
      "The current K is: 571 The current Test Error is: 0.010000000000000009\n",
      "The current K is: 581 The current Test Error is: 0.010000000000000009\n",
      "The current K is: 591 The current Test Error is: 0.010000000000000009\n",
      "The current K is: 601 The current Test Error is: 0.010000000000000009\n",
      "The current K is: 611 The current Test Error is: 0.010000000000000009\n",
      "The current K is: 621 The current Test Error is: 0.010000000000000009\n",
      "The current K is: 631 The current Test Error is: 0.010000000000000009\n",
      "The current K is: 641 The current Test Error is: 0.010000000000000009\n",
      "The current K is: 651 The current Test Error is: 0.010000000000000009\n",
      "The current K is: 661 The current Test Error is: 0.015000000000000013\n",
      "The current K is: 671 The current Test Error is: 0.01749999999999996\n",
      "The current K is: 681 The current Test Error is: 0.020000000000000018\n",
      "The current K is: 691 The current Test Error is: 0.02749999999999997\n",
      "The current K is: 701 The current Test Error is: 0.030000000000000027\n",
      "The current K is: 711 The current Test Error is: 0.03500000000000003\n",
      "The current K is: 721 The current Test Error is: 0.04249999999999998\n",
      "The current K is: 731 The current Test Error is: 0.04249999999999998\n",
      "The current K is: 741 The current Test Error is: 0.04749999999999999\n",
      "The current K is: 751 The current Test Error is: 0.050000000000000044\n",
      "The current K is: 761 The current Test Error is: 0.05249999999999999\n",
      "The current K is: 771 The current Test Error is: 0.05249999999999999\n",
      "The current K is: 781 The current Test Error is: 0.057499999999999996\n",
      "The current K is: 791 The current Test Error is: 0.06000000000000005\n",
      "The current K is: 801 The current Test Error is: 0.0625\n",
      "The current K is: 811 The current Test Error is: 0.0625\n",
      "The current K is: 821 The current Test Error is: 0.06000000000000005\n",
      "The current K is: 831 The current Test Error is: 0.0625\n",
      "The current K is: 841 The current Test Error is: 0.06000000000000005\n",
      "The current K is: 851 The current Test Error is: 0.06000000000000005\n",
      "The current K is: 861 The current Test Error is: 0.06000000000000005\n",
      "The current K is: 871 The current Test Error is: 0.06000000000000005\n",
      "The current K is: 881 The current Test Error is: 0.06000000000000005\n",
      "The current K is: 891 The current Test Error is: 0.06000000000000005\n",
      "The current K is: 901 The current Test Error is: 0.06000000000000005\n",
      "The Best Error rate is 0.0\n",
      "The Best K neighbor is 51\n"
     ]
    }
   ],
   "source": [
    "#Euclidean distance with weight change\n",
    "\n",
    "def KNN_Euclidean_weightchange():\n",
    "    best_score=0\n",
    "    best_k=0\n",
    "    for i in range(1,911,10):\n",
    "        classifier=KNeighborsClassifier(n_neighbors=i,weights=\"distance\",p=2)\n",
    "        classifier.fit(train_data_x,train_data_y)\n",
    "        predictions=classifier.predict(test_data_x)\n",
    "        accuracy=accuracy_score(predictions,test_data_y)\n",
    "        if accuracy>=best_score:\n",
    "            best_score=accuracy\n",
    "            best_k=i\n",
    "        print(\"The current K is: \"+str(i)+\" The current Test Error is: \"+str(1-accuracy))\n",
    "    return best_k,best_score\n",
    "best_k,best_score=KNN_Euclidean_weightchange()\n",
    "print(\"The Best Error rate is \"+str(1-best_score))\n",
    "print(\"The Best K neighbor is \"+str(best_k))"
   ]
  },
  {
   "cell_type": "code",
   "execution_count": 197,
   "metadata": {},
   "outputs": [
    {
     "name": "stdout",
     "output_type": "stream",
     "text": [
      "The current K is: 1 The current Test Error is: 0.0\n",
      "The current K is: 11 The current Test Error is: 0.0\n",
      "The current K is: 21 The current Test Error is: 0.0\n",
      "The current K is: 31 The current Test Error is: 0.0\n",
      "The current K is: 41 The current Test Error is: 0.0\n",
      "The current K is: 51 The current Test Error is: 0.0\n",
      "The current K is: 61 The current Test Error is: 0.0\n",
      "The current K is: 71 The current Test Error is: 0.0\n",
      "The current K is: 81 The current Test Error is: 0.0\n",
      "The current K is: 91 The current Test Error is: 0.0024999999999999467\n",
      "The current K is: 101 The current Test Error is: 0.0024999999999999467\n",
      "The current K is: 111 The current Test Error is: 0.0024999999999999467\n",
      "The current K is: 121 The current Test Error is: 0.0024999999999999467\n",
      "The current K is: 131 The current Test Error is: 0.0024999999999999467\n",
      "The current K is: 141 The current Test Error is: 0.0024999999999999467\n",
      "The current K is: 151 The current Test Error is: 0.0024999999999999467\n",
      "The current K is: 161 The current Test Error is: 0.0024999999999999467\n",
      "The current K is: 171 The current Test Error is: 0.0024999999999999467\n",
      "The current K is: 181 The current Test Error is: 0.0024999999999999467\n",
      "The current K is: 191 The current Test Error is: 0.0050000000000000044\n",
      "The current K is: 201 The current Test Error is: 0.0050000000000000044\n",
      "The current K is: 211 The current Test Error is: 0.007499999999999951\n",
      "The current K is: 221 The current Test Error is: 0.007499999999999951\n",
      "The current K is: 231 The current Test Error is: 0.007499999999999951\n",
      "The current K is: 241 The current Test Error is: 0.010000000000000009\n",
      "The current K is: 251 The current Test Error is: 0.010000000000000009\n",
      "The current K is: 261 The current Test Error is: 0.01749999999999996\n",
      "The current K is: 271 The current Test Error is: 0.01749999999999996\n",
      "The current K is: 281 The current Test Error is: 0.01749999999999996\n",
      "The current K is: 291 The current Test Error is: 0.01749999999999996\n",
      "The current K is: 301 The current Test Error is: 0.01749999999999996\n",
      "The current K is: 311 The current Test Error is: 0.020000000000000018\n",
      "The current K is: 321 The current Test Error is: 0.022499999999999964\n",
      "The current K is: 331 The current Test Error is: 0.022499999999999964\n",
      "The current K is: 341 The current Test Error is: 0.022499999999999964\n",
      "The current K is: 351 The current Test Error is: 0.022499999999999964\n",
      "The current K is: 361 The current Test Error is: 0.022499999999999964\n",
      "The current K is: 371 The current Test Error is: 0.022499999999999964\n",
      "The current K is: 381 The current Test Error is: 0.022499999999999964\n",
      "The current K is: 391 The current Test Error is: 0.022499999999999964\n",
      "The current K is: 401 The current Test Error is: 0.025000000000000022\n",
      "The current K is: 411 The current Test Error is: 0.025000000000000022\n",
      "The current K is: 421 The current Test Error is: 0.025000000000000022\n",
      "The current K is: 431 The current Test Error is: 0.03249999999999997\n",
      "The current K is: 441 The current Test Error is: 0.03249999999999997\n",
      "The current K is: 451 The current Test Error is: 0.03249999999999997\n",
      "The current K is: 461 The current Test Error is: 0.030000000000000027\n",
      "The current K is: 471 The current Test Error is: 0.030000000000000027\n",
      "The current K is: 481 The current Test Error is: 0.030000000000000027\n",
      "The current K is: 491 The current Test Error is: 0.030000000000000027\n",
      "The current K is: 501 The current Test Error is: 0.030000000000000027\n",
      "The current K is: 511 The current Test Error is: 0.030000000000000027\n",
      "The current K is: 521 The current Test Error is: 0.030000000000000027\n",
      "The current K is: 531 The current Test Error is: 0.030000000000000027\n",
      "The current K is: 541 The current Test Error is: 0.030000000000000027\n",
      "The current K is: 551 The current Test Error is: 0.02749999999999997\n",
      "The current K is: 561 The current Test Error is: 0.030000000000000027\n",
      "The current K is: 571 The current Test Error is: 0.03249999999999997\n",
      "The current K is: 581 The current Test Error is: 0.030000000000000027\n",
      "The current K is: 591 The current Test Error is: 0.02749999999999997\n",
      "The current K is: 601 The current Test Error is: 0.02749999999999997\n",
      "The current K is: 611 The current Test Error is: 0.03249999999999997\n",
      "The current K is: 621 The current Test Error is: 0.03249999999999997\n",
      "The current K is: 631 The current Test Error is: 0.03249999999999997\n",
      "The current K is: 641 The current Test Error is: 0.03500000000000003\n",
      "The current K is: 651 The current Test Error is: 0.03749999999999998\n",
      "The current K is: 661 The current Test Error is: 0.040000000000000036\n",
      "The current K is: 671 The current Test Error is: 0.04249999999999998\n",
      "The current K is: 681 The current Test Error is: 0.04500000000000004\n",
      "The current K is: 691 The current Test Error is: 0.050000000000000044\n",
      "The current K is: 701 The current Test Error is: 0.05500000000000005\n",
      "The current K is: 711 The current Test Error is: 0.057499999999999996\n",
      "The current K is: 721 The current Test Error is: 0.057499999999999996\n",
      "The current K is: 731 The current Test Error is: 0.06000000000000005\n",
      "The current K is: 741 The current Test Error is: 0.06000000000000005\n",
      "The current K is: 751 The current Test Error is: 0.06000000000000005\n",
      "The current K is: 761 The current Test Error is: 0.06000000000000005\n",
      "The current K is: 771 The current Test Error is: 0.0625\n",
      "The current K is: 781 The current Test Error is: 0.0625\n",
      "The current K is: 791 The current Test Error is: 0.06499999999999995\n",
      "The current K is: 801 The current Test Error is: 0.06499999999999995\n",
      "The current K is: 811 The current Test Error is: 0.06499999999999995\n",
      "The current K is: 821 The current Test Error is: 0.0625\n",
      "The current K is: 831 The current Test Error is: 0.0625\n",
      "The current K is: 841 The current Test Error is: 0.07250000000000001\n",
      "The current K is: 851 The current Test Error is: 0.06999999999999995\n",
      "The current K is: 861 The current Test Error is: 0.06999999999999995\n",
      "The current K is: 871 The current Test Error is: 0.07250000000000001\n",
      "The current K is: 881 The current Test Error is: 0.07250000000000001\n",
      "The current K is: 891 The current Test Error is: 0.07250000000000001\n",
      "The current K is: 901 The current Test Error is: 0.07250000000000001\n",
      "The Best Error rate in Manhattan weight change  is 0.0\n",
      "The Best K neighbor is Manhattan weight change  is 81\n"
     ]
    }
   ],
   "source": [
    "#Manhattan distance with weight change\n",
    "def KNN_Manhattan_weightchange():\n",
    "    best_score=0\n",
    "    best_k=0\n",
    "    for i in range(1,911,10):\n",
    "        classifier=KNeighborsClassifier(n_neighbors=i,weights=\"distance\",p=1)\n",
    "        classifier.fit(train_data_x,train_data_y)\n",
    "        predictions=classifier.predict(test_data_x)\n",
    "        accuracy=accuracy_score(predictions,test_data_y)\n",
    "        if accuracy>=best_score:\n",
    "            best_score=accuracy\n",
    "            best_k=i\n",
    "        print(\"The current K is: \"+str(i)+\" The current Test Error is: \"+str(1-accuracy))\n",
    "    return best_k,best_score\n",
    "best_k,best_score=KNN_Manhattan_weightchange()\n",
    "print(\"The Best Error rate in Manhattan weight change  is \"+str(1-best_score))\n",
    "print(\"The Best K neighbor is Manhattan weight change  is \"+str(best_k))"
   ]
  },
  {
   "cell_type": "code",
   "execution_count": 198,
   "metadata": {},
   "outputs": [
    {
     "name": "stdout",
     "output_type": "stream",
     "text": [
      "The current K is: 1 The current Test Error is: 0.0\n",
      "The current K is: 11 The current Test Error is: 0.0\n",
      "The current K is: 21 The current Test Error is: 0.0\n",
      "The current K is: 31 The current Test Error is: 0.0\n",
      "The current K is: 41 The current Test Error is: 0.0\n",
      "The current K is: 51 The current Test Error is: 0.0\n",
      "The current K is: 61 The current Test Error is: 0.0\n",
      "The current K is: 71 The current Test Error is: 0.0\n",
      "The current K is: 81 The current Test Error is: 0.0\n",
      "The current K is: 91 The current Test Error is: 0.0\n",
      "The current K is: 101 The current Test Error is: 0.0\n",
      "The current K is: 111 The current Test Error is: 0.0\n",
      "The current K is: 121 The current Test Error is: 0.0\n",
      "The current K is: 131 The current Test Error is: 0.0\n",
      "The current K is: 141 The current Test Error is: 0.0\n",
      "The current K is: 151 The current Test Error is: 0.0\n",
      "The current K is: 161 The current Test Error is: 0.0\n",
      "The current K is: 171 The current Test Error is: 0.0\n",
      "The current K is: 181 The current Test Error is: 0.0\n",
      "The current K is: 191 The current Test Error is: 0.0\n",
      "The current K is: 201 The current Test Error is: 0.0\n",
      "The current K is: 211 The current Test Error is: 0.0\n",
      "The current K is: 221 The current Test Error is: 0.0\n",
      "The current K is: 231 The current Test Error is: 0.0\n",
      "The current K is: 241 The current Test Error is: 0.0\n",
      "The current K is: 251 The current Test Error is: 0.0\n",
      "The current K is: 261 The current Test Error is: 0.0\n",
      "The current K is: 271 The current Test Error is: 0.0\n",
      "The current K is: 281 The current Test Error is: 0.0\n",
      "The current K is: 291 The current Test Error is: 0.0\n",
      "The current K is: 301 The current Test Error is: 0.0\n",
      "The current K is: 311 The current Test Error is: 0.0\n",
      "The current K is: 321 The current Test Error is: 0.0\n",
      "The current K is: 331 The current Test Error is: 0.0\n",
      "The current K is: 341 The current Test Error is: 0.0\n",
      "The current K is: 351 The current Test Error is: 0.0\n",
      "The current K is: 361 The current Test Error is: 0.0\n",
      "The current K is: 371 The current Test Error is: 0.0\n",
      "The current K is: 381 The current Test Error is: 0.0\n",
      "The current K is: 391 The current Test Error is: 0.0\n",
      "The current K is: 401 The current Test Error is: 0.0\n",
      "The current K is: 411 The current Test Error is: 0.0\n",
      "The current K is: 421 The current Test Error is: 0.0\n",
      "The current K is: 431 The current Test Error is: 0.0\n",
      "The current K is: 441 The current Test Error is: 0.0\n",
      "The current K is: 451 The current Test Error is: 0.0\n",
      "The current K is: 461 The current Test Error is: 0.0\n",
      "The current K is: 471 The current Test Error is: 0.0\n",
      "The current K is: 481 The current Test Error is: 0.0\n",
      "The current K is: 491 The current Test Error is: 0.0\n",
      "The current K is: 501 The current Test Error is: 0.0\n",
      "The current K is: 511 The current Test Error is: 0.0\n",
      "The current K is: 521 The current Test Error is: 0.0\n",
      "The current K is: 531 The current Test Error is: 0.0\n",
      "The current K is: 541 The current Test Error is: 0.0\n",
      "The current K is: 551 The current Test Error is: 0.0\n",
      "The current K is: 561 The current Test Error is: 0.0\n",
      "The current K is: 571 The current Test Error is: 0.0\n",
      "The current K is: 581 The current Test Error is: 0.0\n",
      "The current K is: 591 The current Test Error is: 0.0\n",
      "The current K is: 601 The current Test Error is: 0.0\n",
      "The current K is: 611 The current Test Error is: 0.0\n",
      "The current K is: 621 The current Test Error is: 0.0\n",
      "The current K is: 631 The current Test Error is: 0.0\n",
      "The current K is: 641 The current Test Error is: 0.0\n",
      "The current K is: 651 The current Test Error is: 0.0\n",
      "The current K is: 661 The current Test Error is: 0.0\n",
      "The current K is: 671 The current Test Error is: 0.0\n",
      "The current K is: 681 The current Test Error is: 0.0\n",
      "The current K is: 691 The current Test Error is: 0.0\n",
      "The current K is: 701 The current Test Error is: 0.0\n",
      "The current K is: 711 The current Test Error is: 0.0\n",
      "The current K is: 721 The current Test Error is: 0.0\n",
      "The current K is: 731 The current Test Error is: 0.0\n",
      "The current K is: 741 The current Test Error is: 0.0\n",
      "The current K is: 751 The current Test Error is: 0.0\n",
      "The current K is: 761 The current Test Error is: 0.0\n",
      "The current K is: 771 The current Test Error is: 0.0\n",
      "The current K is: 781 The current Test Error is: 0.0\n",
      "The current K is: 791 The current Test Error is: 0.0\n",
      "The current K is: 801 The current Test Error is: 0.0\n",
      "The current K is: 811 The current Test Error is: 0.0\n",
      "The current K is: 821 The current Test Error is: 0.0\n",
      "The current K is: 831 The current Test Error is: 0.0\n",
      "The current K is: 841 The current Test Error is: 0.0\n",
      "The current K is: 851 The current Test Error is: 0.0\n",
      "The current K is: 861 The current Test Error is: 0.0\n",
      "The current K is: 871 The current Test Error is: 0.0\n",
      "The current K is: 881 The current Test Error is: 0.0\n",
      "The current K is: 891 The current Test Error is: 0.0\n",
      "The current K is: 901 The current Test Error is: 0.0\n",
      "The Best Error rate in Chebyshev weight change is 0.0\n",
      "The Best K neighbor in Chebyshev weight change is 901\n"
     ]
    }
   ],
   "source": [
    "#Chebyshev distance with weight change\n",
    "def KNN_Chebyshev_weightchange():\n",
    "    max_number=sys.maxsize\n",
    "    best_score=0\n",
    "    best_k=0\n",
    "    for i in range(1,911,10):\n",
    "        classifier=KNeighborsClassifier(n_neighbors=i,weights=\"distance\",p=max_number)\n",
    "        classifier.fit(train_data_x,train_data_y)\n",
    "        predictions=classifier.predict(test_data_x)\n",
    "        accuracy=accuracy_score(predictions,test_data_y)\n",
    "        if accuracy>=best_score:\n",
    "            best_score=accuracy\n",
    "            best_k=i\n",
    "        print(\"The current K is: \"+str(i)+\" The current Test Error is: \"+str(1-accuracy))\n",
    "    return best_k,best_score\n",
    "best_k,best_score=KNN_Chebyshev_weightchange()\n",
    "print(\"The Best Error rate in Chebyshev weight change is \"+str(1-best_score))\n",
    "print(\"The Best K neighbor in Chebyshev weight change is \"+str(best_k))"
   ]
  },
  {
   "cell_type": "markdown",
   "metadata": {
    "collapsed": true
   },
   "source": [
    "# (f) What is the lowest training error rate you achieved in this exercise?"
   ]
  },
  {
   "cell_type": "code",
   "execution_count": 199,
   "metadata": {},
   "outputs": [
    {
     "name": "stdout",
     "output_type": "stream",
     "text": [
      "The lowest Training error i got in this exercises is 0.0\n"
     ]
    }
   ],
   "source": [
    "print(\"The lowest Training error i got in this exercises is \"+str(0.0))"
   ]
  },
  {
   "cell_type": "code",
   "execution_count": null,
   "metadata": {
    "collapsed": true
   },
   "outputs": [],
   "source": []
  }
 ],
 "metadata": {
  "kernelspec": {
   "display_name": "Python 3",
   "language": "python",
   "name": "python3"
  },
  "language_info": {
   "codemirror_mode": {
    "name": "ipython",
    "version": 3
   },
   "file_extension": ".py",
   "mimetype": "text/x-python",
   "name": "python",
   "nbconvert_exporter": "python",
   "pygments_lexer": "ipython3",
   "version": "3.6.2"
  }
 },
 "nbformat": 4,
 "nbformat_minor": 2
}
